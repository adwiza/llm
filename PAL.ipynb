{
  "nbformat": 4,
  "nbformat_minor": 0,
  "metadata": {
    "colab": {
      "provenance": []
    },
    "kernelspec": {
      "name": "python3",
      "display_name": "Python 3"
    },
    "language_info": {
      "name": "python"
    }
  },
  "cells": [
    {
      "cell_type": "code",
      "execution_count": null,
      "metadata": {
        "id": "m3uB_1RRNEqT"
      },
      "outputs": [],
      "source": [
        "# PAL: Program-Aided Language Modeling"
      ]
    },
    {
      "cell_type": "code",
      "source": [
        "%%capture\n",
        "!pip install OpenAI"
      ],
      "metadata": {
        "id": "Mk8uJ1TvNPnx"
      },
      "execution_count": null,
      "outputs": []
    },
    {
      "cell_type": "code",
      "source": [
        "from openai import OpenAI\n",
        "from datetime import datetime\n",
        "from dateutil.relativedelta import relativedelta\n",
        "import os\n",
        "from google.colab import userdata"
      ],
      "metadata": {
        "id": "yvgEiZNzNXh1"
      },
      "execution_count": null,
      "outputs": []
    },
    {
      "cell_type": "code",
      "source": [
        "# API configuration\n",
        "client = OpenAI(\n",
        "    api_key=userdata.get(\"DEEPSEEK_API_KEY\"),\n",
        "    base_url=\"https://api.deepseek.com/v1\"\n",
        ")"
      ],
      "metadata": {
        "id": "0LMh9C-rN9C4"
      },
      "execution_count": null,
      "outputs": []
    },
    {
      "cell_type": "code",
      "source": [
        "# get completion\n",
        "def get_completion(messages, temperature=0, max_tokens=1000):\n",
        "    response = client.chat.completions.create(\n",
        "        model=\"deepseek-chat\",\n",
        "        messages=messages,\n",
        "        temperature=temperature,\n",
        "        max_tokens=max_tokens\n",
        "    )\n",
        "    return response.choices[0].message.content"
      ],
      "metadata": {
        "id": "SD2np0k_OcTH"
      },
      "execution_count": null,
      "outputs": []
    },
    {
      "cell_type": "code",
      "source": [
        "get_completion(messages=[\n",
        "          {\"role\": \"system\", \"content\": \"You are a helpful assistant.\"},\n",
        "          {\"role\": \"user\", \"content\": \"Hello, how are you?\"}\n",
        "      ],)"
      ],
      "metadata": {
        "colab": {
          "base_uri": "https://localhost:8080/",
          "height": 35
        },
        "id": "4Rul_jtkPqfT",
        "outputId": "79e3e7de-ce01-479f-d58f-5e76c08e9079"
      },
      "execution_count": null,
      "outputs": [
        {
          "output_type": "execute_result",
          "data": {
            "text/plain": [
              "\"Hello! I'm doing great, thank you for asking. How are you today? 😊\""
            ],
            "application/vnd.google.colaboratory.intrinsic+json": {
              "type": "string"
            }
          },
          "metadata": {},
          "execution_count": 6
        }
      ]
    },
    {
      "cell_type": "code",
      "source": [
        "user_question = \"Today is 12 September 2025. I was born exactly 48 years ago. What is the date I was born in MM/DD/YYYY?.\"\n",
        "\n",
        "DATE_UNDERSTANDING_PROMPT = \"\"\"\n",
        "# Q: 2015 is coming in 36 hours. What is the date one week from today in MM/DD/YYYY?\n",
        "# If 2015 is coming in 36 hours, then today is 36 hours before.\n",
        "today = datetime(2015, 1, 1) - relativedelta(hours=36)\n",
        "# One week from today,\n",
        "one_week_from_today = today + relativedelta(weeks=1)\n",
        "# The answer formatted with %m/%d/%Y is\n",
        "answer = one_week_from_today.strftime('%m/%d/%Y')\n",
        "\n",
        "# Q: The first day of 2019 is a Tuesday, and today is the first Monday of 2019. What is the date today in MM/DD/YYYY?\n",
        "# If the first day of 2019 is a Tuesday, and today is the first Monday of 2019, then today is 6 days later.\n",
        "today = datetime(2019, 1, 1) + relativedelta(days=6)\n",
        "# The answer formatted with %m/%d/%Y is\n",
        "answer = today.strftime('%m/%d/%Y')\n",
        "\n",
        "# Q: The concert was scheduled to be on 06/01/1943, but was delayed by one day to today. What is the date 10 days ago in MM/DD/YYYY?\n",
        "# If the concert was scheduled to be on 06/01/1943, but was delayed by one day to today, then today is one day later.\n",
        "today = datetime(1943, 6, 1) + relativedelta(days=1)\n",
        "# 10 days ago,\n",
        "ten_days_ago = today - relativedelta(days=10)\n",
        "# The answer formatted with %m/%d/%Y is\n",
        "answer = ten_days_ago.strftime('%m/%d/%Y')\n",
        "\n",
        "# Q: It is 4/19/1969 today. What is the date 24 hours later in MM/DD/YYYY?\n",
        "# It is 4/19/1969 today.\n",
        "today = datetime(1969, 4, 19)\n",
        "# 24 hours later,\n",
        "later = today + relativedelta(hours=24)\n",
        "# The answer formatted with %m/%d/%Y is\n",
        "answer = today.strftime('%m/%d/%Y')\n",
        "\n",
        "# Q: Jane thought today is 3/11/2002, but today is in fact Mar 12, which is 1 day later. What is the date 24 hours later in MM/DD/YYYY?\n",
        "# If Jane thought today is 3/11/2002, but today is in fact Mar 12, then today is 3/1/2002.\n",
        "today = datetime(2002, 3, 12)\n",
        "# 24 hours later,\n",
        "later = today + relativedelta(hours=24)\n",
        "# The answer formatted with %m/%d/%Y is\n",
        "answer = later.strftime('%m/%d/%Y')\n",
        "\n",
        "# Q: Jane was born on the last day of Feburary in 2001. Today is her 16-year-old birthday. What is the date yesterday in MM/DD/YYYY?\n",
        "# If Jane was born on the last day of Feburary in 2001 and today is her 16-year-old birthday, then today is 16 years later.\n",
        "today = datetime(2001, 2, 28) + relativedelta(years=16)\n",
        "# Yesterday,\n",
        "yesterday = today - relativedelta(days=1)\n",
        "# The answer formatted with %m/%d/%Y is\n",
        "answer = yesterday.strftime('%m/%d/%Y')\n",
        "\n",
        "# Q: {question}\n",
        "\"\"\".strip() + '\\n'\n",
        "\n",
        "messages = [\n",
        "    {\"role\": \"system\", \"content\": \"You are a helpful assistant. Use the same format as the examples delimited by <examples></examples>. Don't use python output.\"},\n",
        "    {\"role\": \"user\", \"content\": DATE_UNDERSTANDING_PROMPT.format(question=user_question)}\n",
        "]"
      ],
      "metadata": {
        "id": "EjbswrVWREAI"
      },
      "execution_count": null,
      "outputs": []
    },
    {
      "cell_type": "code",
      "source": [
        "llm_out = get_completion(messages)\n",
        "print(llm_out)"
      ],
      "metadata": {
        "colab": {
          "base_uri": "https://localhost:8080/"
        },
        "id": "O6cWccIeVoRH",
        "outputId": "9b9cf424-a01f-46a2-87ed-ac7117de8673"
      },
      "execution_count": null,
      "outputs": [
        {
          "output_type": "stream",
          "name": "stdout",
          "text": [
            "# If today is 12 September 2025 and I was born exactly 48 years ago, then the birth date is 48 years earlier.\n",
            "birth_date = datetime(2025, 9, 12) - relativedelta(years=48)\n",
            "# The answer formatted with %m/%d/%Y is\n",
            "answer = birth_date.strftime('%m/%d/%Y')\n"
          ]
        }
      ]
    },
    {
      "cell_type": "code",
      "source": [
        "exec(llm_out)\n",
        "print(answer)"
      ],
      "metadata": {
        "colab": {
          "base_uri": "https://localhost:8080/"
        },
        "id": "RStaOg03Yvji",
        "outputId": "eeb6358a-f92d-4e14-c63f-db0fc438684e"
      },
      "execution_count": null,
      "outputs": [
        {
          "output_type": "stream",
          "name": "stdout",
          "text": [
            "09/12/1977\n"
          ]
        }
      ]
    },
    {
      "cell_type": "code",
      "source": [],
      "metadata": {
        "id": "IxK352VCY12q"
      },
      "execution_count": null,
      "outputs": []
    }
  ]
}