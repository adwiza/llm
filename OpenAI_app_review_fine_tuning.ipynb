{
 "cells": [
  {
   "cell_type": "code",
   "execution_count": 1,
   "id": "a984a60c-2257-46ac-a822-b591dd91a5be",
   "metadata": {},
   "outputs": [],
   "source": [
    "# Fine tuning classificatin with OpenAI"
   ]
  },
  {
   "cell_type": "markdown",
   "id": "0b8ed45f-6bb9-424a-ad88-5e6007623b63",
   "metadata": {},
   "source": [
    "We will fine-tune some OpenAI classifier to classify the number of stars a reviewer will give a review of an app"
   ]
  },
  {
   "cell_type": "code",
   "execution_count": 2,
   "id": "afd88cb8-4d9d-4c9e-b51d-648bb8ab1976",
   "metadata": {},
   "outputs": [],
   "source": [
    "# Importing necessaruy libraries\n",
    "import pandas as pd\n",
    "from openai import OpenAI\n",
    "import os\n",
    "from datasets import load_dataset\n",
    "import random\n",
    "import math\n",
    "import matplotlib.pyplot as plt\n",
    "import json\n",
    "import seaborn as sns\n",
    "import numpy as np\n",
    "from tqdm.auto import tqdm\n",
    "import base64\n",
    "import csv\n",
    "import time\n",
    "\n",
    "# Setting the style to a modern look\n",
    "sns.set_style('whitegrid')\n",
    "\n",
    "# Defining a constant SEED for reproducibility in random operations\n",
    "SEED = 42\n",
    "\n",
    "# Setting the seed for the random library to ensure condidtent results\n",
    "random.seed(SEED)\n",
    "\n",
    "\n",
    "%matplotlib inline"
   ]
  },
  {
   "cell_type": "code",
   "execution_count": null,
   "id": "85dd55b0-1485-4945-b987-f3511899a312",
   "metadata": {},
   "outputs": [],
   "source": [
    "os.environ[\"OPENAI_API_KEY\"] = \"\""
   ]
  },
  {
   "cell_type": "code",
   "execution_count": 4,
   "id": "a48edf74-0f7e-4394-b9c0-88d1ef0c06a9",
   "metadata": {},
   "outputs": [
    {
     "data": {
      "text/plain": [
       "Dataset({\n",
       "    features: ['package_name', 'review', 'date', 'star'],\n",
       "    num_rows: 288065\n",
       "})"
      ]
     },
     "execution_count": 4,
     "metadata": {},
     "output_type": "execute_result"
    }
   ],
   "source": [
    "client = OpenAI(\n",
    "    api_key=os.environ.get(\"OPENAI_API_KEY\"),\n",
    ")\n",
    "\n",
    "# Importing the ClassLabel module to represint categorical class labels\n",
    "from datasets import ClassLabel\n",
    "\n",
    "# Loading the 'app_reviews' dataset's training split into the 'dataset' variable\n",
    "dataset = load_dataset('app_reviews', split='train')\n",
    "\n",
    "# Converting the 'star' column into our dataset to a ClassLabel type\n",
    "# this allows for categorical represetation and easier handling or classes\n",
    "dataset = dataset.class_encode_column('star')\n",
    "\n",
    "# Displaying the dataset to see the changes\n",
    "dataset"
   ]
  },
  {
   "cell_type": "code",
   "execution_count": 5,
   "id": "1a953700-a6a0-4209-8b1b-03b33c757d11",
   "metadata": {},
   "outputs": [
    {
     "data": {
      "text/plain": [
       "{'package_name': 'com.mantz_it.rfanalyzer',\n",
       " 'review': \"Great app! The new version now works on my Bravia Android TV which is great as it's right by my rooftop aerial cable. The scan feature would be useful...any ETA on when this will be available? Also the option to import a list of bookmarks e.g. from a simple properties file would be useful.\",\n",
       " 'date': 'October 12 2016',\n",
       " 'star': 3}"
      ]
     },
     "execution_count": 5,
     "metadata": {},
     "output_type": "execute_result"
    }
   ],
   "source": [
    "dataset[0]"
   ]
  },
  {
   "cell_type": "code",
   "execution_count": 6,
   "id": "a595e3ba-4588-489d-940e-be13016dde8a",
   "metadata": {},
   "outputs": [],
   "source": [
    "dataset = dataset.train_test_split(test_size=.2, seed=SEED, stratify_by_column='star')\n",
    "\n",
    "df = dataset['train'].train_test_split(test_size=.25, seed=SEED, stratify_by_column='star')\n",
    "\n",
    "dataset['train'] = df['train']\n",
    "\n",
    "dataset['val'] = df['test']"
   ]
  },
  {
   "cell_type": "code",
   "execution_count": 7,
   "id": "36fc14ef-bc08-4465-a9ca-123e520ff577",
   "metadata": {},
   "outputs": [
    {
     "data": {
      "text/plain": [
       "DatasetDict({\n",
       "    train: Dataset({\n",
       "        features: ['package_name', 'review', 'date', 'star'],\n",
       "        num_rows: 172839\n",
       "    })\n",
       "    test: Dataset({\n",
       "        features: ['package_name', 'review', 'date', 'star'],\n",
       "        num_rows: 57613\n",
       "    })\n",
       "    val: Dataset({\n",
       "        features: ['package_name', 'review', 'date', 'star'],\n",
       "        num_rows: 57613\n",
       "    })\n",
       "})"
      ]
     },
     "execution_count": 7,
     "metadata": {},
     "output_type": "execute_result"
    }
   ],
   "source": [
    "dataset"
   ]
  },
  {
   "cell_type": "code",
   "execution_count": 8,
   "id": "56433fb6-1b5b-463b-b57a-dec17e6b613f",
   "metadata": {},
   "outputs": [
    {
     "data": {
      "text/html": [
       "<div>\n",
       "<style scoped>\n",
       "    .dataframe tbody tr th:only-of-type {\n",
       "        vertical-align: middle;\n",
       "    }\n",
       "\n",
       "    .dataframe tbody tr th {\n",
       "        vertical-align: top;\n",
       "    }\n",
       "\n",
       "    .dataframe thead th {\n",
       "        text-align: right;\n",
       "    }\n",
       "</style>\n",
       "<table border=\"1\" class=\"dataframe\">\n",
       "  <thead>\n",
       "    <tr style=\"text-align: right;\">\n",
       "      <th></th>\n",
       "      <th>review</th>\n",
       "      <th>star</th>\n",
       "    </tr>\n",
       "  </thead>\n",
       "  <tbody>\n",
       "    <tr>\n",
       "      <th>0</th>\n",
       "      <td>Nice😉</td>\n",
       "      <td>4</td>\n",
       "    </tr>\n",
       "    <tr>\n",
       "      <th>1</th>\n",
       "      <td>Google play service Just one ward its amazing ...</td>\n",
       "      <td>4</td>\n",
       "    </tr>\n",
       "    <tr>\n",
       "      <th>2</th>\n",
       "      <td>Mr Perfect</td>\n",
       "      <td>0</td>\n",
       "    </tr>\n",
       "    <tr>\n",
       "      <th>3</th>\n",
       "      <td>Does not work with Tmobile S4 If you try to in...</td>\n",
       "      <td>0</td>\n",
       "    </tr>\n",
       "    <tr>\n",
       "      <th>4</th>\n",
       "      <td>Ok</td>\n",
       "      <td>2</td>\n",
       "    </tr>\n",
       "    <tr>\n",
       "      <th>5</th>\n",
       "      <td>Say App Ka nam to the other than a few months</td>\n",
       "      <td>4</td>\n",
       "    </tr>\n",
       "    <tr>\n",
       "      <th>6</th>\n",
       "      <td>Owk</td>\n",
       "      <td>4</td>\n",
       "    </tr>\n",
       "    <tr>\n",
       "      <th>7</th>\n",
       "      <td>Coc</td>\n",
       "      <td>4</td>\n",
       "    </tr>\n",
       "    <tr>\n",
       "      <th>8</th>\n",
       "      <td>Not working bad</td>\n",
       "      <td>0</td>\n",
       "    </tr>\n",
       "    <tr>\n",
       "      <th>9</th>\n",
       "      <td>After downloading this app  my phone slowed do...</td>\n",
       "      <td>0</td>\n",
       "    </tr>\n",
       "  </tbody>\n",
       "</table>\n",
       "</div>"
      ],
      "text/plain": [
       "                                              review  star\n",
       "0                                              Nice😉     4\n",
       "1  Google play service Just one ward its amazing ...     4\n",
       "2                                         Mr Perfect     0\n",
       "3  Does not work with Tmobile S4 If you try to in...     0\n",
       "4                                                 Ok     2\n",
       "5      Say App Ka nam to the other than a few months     4\n",
       "6                                                Owk     4\n",
       "7                                                Coc     4\n",
       "8                                    Not working bad     0\n",
       "9  After downloading this app  my phone slowed do...     0"
      ]
     },
     "execution_count": 8,
     "metadata": {},
     "output_type": "execute_result"
    }
   ],
   "source": [
    "# convert to pandas dataframe\n",
    "training_df = pd.DataFrame(dataset['train'])\n",
    "\n",
    "training_df[['review', 'star']].head(10)"
   ]
  },
  {
   "cell_type": "code",
   "execution_count": 9,
   "id": "43ab7ea4-2711-4162-a1e1-c996bf1e9ca3",
   "metadata": {},
   "outputs": [
    {
     "data": {
      "image/png": "[encoded data removed]",
      "text/plain": [
       "<Figure size 1000x600 with 1 Axes>"
      ]
     },
     "metadata": {},
     "output_type": "display_data"
    }
   ],
   "source": [
    "# Counting the number of orrrurences for each 'star' value, sorting by index\n",
    "star_counts = training_df['star'].value_counts().sort_index()\n",
    "\n",
    "# Creating the bar plot to show distributino of star tatings given\n",
    "plt.figure(figsize=(10, 6))\n",
    "\n",
    "star_counts.plot(kind='bar', color=sns.color_palette('coolwarm', len(star_counts)))\n",
    "\n",
    "\n",
    "# Adding titles and labels for clarity\n",
    "plt.title('Distribution of Star Ratings in Training Data', fontsize=15)\n",
    "plt.xlabel('Star Rating', fontsize=12)\n",
    "plt.ylabel('Count', fontsize=12)\n",
    "plt.xticks(rotation=0)\n",
    "plt.show();"
   ]
  },
  {
   "cell_type": "code",
   "execution_count": 10,
   "id": "70803f86-ef39-4c33-9165-2c412b7233bb",
   "metadata": {},
   "outputs": [],
   "source": [
    "test_df = pd.DataFrame(dataset['test'])\n",
    "val_df = pd.DataFrame(dataset['val'])"
   ]
  },
  {
   "cell_type": "markdown",
   "id": "58858511-afbb-4741-ad4d-ac19300a041a",
   "metadata": {},
   "source": [
    "# Star prediction (sentiment)"
   ]
  },
  {
   "cell_type": "code",
   "execution_count": 11,
   "id": "82cbc53e-ec4a-4d6c-9eea-150eaba0f903",
   "metadata": {},
   "outputs": [],
   "source": [
    "training_df['prompt'] = training_df['review'] + '\\n###\\n'\n",
    "val_df['prompt'] = val_df['review'] + '\\n###\\n'\n",
    "test_df['prompt'] = test_df['review'] + '\\n###\\n'\n",
    "\n",
    "# Converting the 'star' column in esch dataset to a string format and storing it in the 'completion' column.\n",
    "# The 'completion' column will be used as the target variable for sentiment analysis.\n",
    "training_df['completion'] = training_df['star'].astype(str)\n",
    "val_df['completion'] = val_df['star'].astype(str)\n",
    "test_df['completion'] = test_df['star'].astype(str)\n",
    "\n",
    "training_df.sample(\n",
    "    len(training_df)\n",
    ").drop_duplicates(subset=['prompt'])[['prompt', 'completion']].to_json(\n",
    "    \"app-review-full-train-sentiment-random.jsonl\", orient='records', lines=True\n",
    ")\n",
    "\n",
    "val_df.sample(\n",
    "    len(val_df)\n",
    ").drop_duplicates(subset=['prompt'])[['prompt', 'completion']].to_json(\n",
    "    \"app-review-full-val-sentiment-random.jsonl\", orient='records', lines=True\n",
    ")\n",
    "\n",
    "# Creating a validation dataset in JSONL format after dropping duplicates based on the 'prompt' column.\n",
    "test_df.sample(\n",
    "    len(test_df)\n",
    ").drop_duplicates(subset=['prompt'])[['prompt', 'completion']].to_json(\n",
    "    \"app-review-full-val-sentiment-random.jsonl\", orient='records', lines=True\n",
    ")"
   ]
  },
  {
   "cell_type": "code",
   "execution_count": 12,
   "id": "96c29aea-1de9-4479-af8b-cefaa6791853",
   "metadata": {},
   "outputs": [
    {
     "data": {
      "text/html": [
       "<div>\n",
       "<style scoped>\n",
       "    .dataframe tbody tr th:only-of-type {\n",
       "        vertical-align: middle;\n",
       "    }\n",
       "\n",
       "    .dataframe tbody tr th {\n",
       "        vertical-align: top;\n",
       "    }\n",
       "\n",
       "    .dataframe thead th {\n",
       "        text-align: right;\n",
       "    }\n",
       "</style>\n",
       "<table border=\"1\" class=\"dataframe\">\n",
       "  <thead>\n",
       "    <tr style=\"text-align: right;\">\n",
       "      <th></th>\n",
       "      <th>package_name</th>\n",
       "      <th>review</th>\n",
       "      <th>date</th>\n",
       "      <th>star</th>\n",
       "      <th>prompt</th>\n",
       "      <th>completion</th>\n",
       "    </tr>\n",
       "  </thead>\n",
       "  <tbody>\n",
       "    <tr>\n",
       "      <th>0</th>\n",
       "      <td>org.ppsspp.ppsspp</td>\n",
       "      <td>Nice😉</td>\n",
       "      <td>March 09 2017</td>\n",
       "      <td>4</td>\n",
       "      <td>Nice😉\\n###\\n</td>\n",
       "      <td>4</td>\n",
       "    </tr>\n",
       "    <tr>\n",
       "      <th>1</th>\n",
       "      <td>com.google.android.gms</td>\n",
       "      <td>Google play service Just one ward its amazing ...</td>\n",
       "      <td>December 18 2016</td>\n",
       "      <td>4</td>\n",
       "      <td>Google play service Just one ward its amazing ...</td>\n",
       "      <td>4</td>\n",
       "    </tr>\n",
       "  </tbody>\n",
       "</table>\n",
       "</div>"
      ],
      "text/plain": [
       "             package_name                                             review  \\\n",
       "0       org.ppsspp.ppsspp                                              Nice😉   \n",
       "1  com.google.android.gms  Google play service Just one ward its amazing ...   \n",
       "\n",
       "               date  star                                             prompt  \\\n",
       "0     March 09 2017     4                                       Nice😉\\n###\\n   \n",
       "1  December 18 2016     4  Google play service Just one ward its amazing ...   \n",
       "\n",
       "  completion  \n",
       "0          4  \n",
       "1          4  "
      ]
     },
     "execution_count": 12,
     "metadata": {},
     "output_type": "execute_result"
    }
   ],
   "source": [
    "training_df.head(2)"
   ]
  },
  {
   "cell_type": "code",
   "execution_count": 13,
   "id": "dfe46c16-0c32-4144-ab49-8329dd191210",
   "metadata": {},
   "outputs": [],
   "source": [
    "def get_data_dict(row, system=''):\n",
    "    return {\n",
    "        \"messages\": [\n",
    "            # {\"role\": \"system\", \"content\": system},\n",
    "            {\"role\": \"system\", \"content\": ''},\n",
    "            {\"role\": \"user\", \"content\": row['review']},\n",
    "            {\"role\": \"assistant\", \"content\": str(row['star'])}\n",
    "        ]\n",
    "    }\n",
    "\n",
    "# export 3.5 prompt with no system prompt\n",
    "with open(f'app-review-full-train-sentiment-random-3.5.jsonl', 'w') as f:\n",
    "    for index, row in training_df.iterrows():\n",
    "        json_str = json.dumps(get_data_dict(row)) # Create dictionary for each row\n",
    "        f.write(json_str + '\\n') # Write JSON string to a file\n",
    "\n",
    "with open(f'app-review-full-test-sentiment-random-3.5.jsonl', 'w') as f:\n",
    "    for index, row in test_df.iterrows():\n",
    "        json_str = json.dumps(get_data_dict(row)) # Create dictionary for each row\n",
    "        f.write(json_str + '\\n') # Write JSON string to a file\n",
    "\n",
    "with open(f'app-review-full-val-sentiment-random-3.5.jsonl', 'w') as f:\n",
    "    for index, row in val_df.iterrows():\n",
    "        json_str = json.dumps(get_data_dict(row)) # Create dictionary for each row\n",
    "        f.write(json_str + '\\n') # Write JSON string to a file    "
   ]
  },
  {
   "cell_type": "code",
   "execution_count": 14,
   "id": "36c732fe-1e4c-4ba4-8447-5d0b9ce96f66",
   "metadata": {},
   "outputs": [],
   "source": [
    "system_prompt = 'You predict star ratings from 0-4 where 0 is the worst rating and 4 in the best'"
   ]
  },
  {
   "cell_type": "code",
   "execution_count": 15,
   "id": "4118a4a2-2dbe-45c2-8c6b-52db4d08411a",
   "metadata": {},
   "outputs": [],
   "source": [
    "# export  3.5 prompts with a system prompt\n",
    "# 22 extra tokens PER sample\n",
    "with open(f'app-review-full-train-sentiment-random-3.5-system.jsonl', 'w') as f:\n",
    "    for index, row in training_df.iterrows():\n",
    "        json_str = json.dumps(get_data_dict(row, system=system_prompt)) # Create dictionary for each row\n",
    "        f.write(json_str + '\\n') # Write JSON string to a file\n",
    "\n",
    "with open(f'app-review-full-test-sentiment-random-3.5-system.jsonl', 'w') as f:\n",
    "    for index, row in test_df.iterrows():\n",
    "        json_str = json.dumps(get_data_dict(row, system=system_prompt)) # Create dictionary for each row\n",
    "        f.write(json_str + '\\n') # Write JSON string to a file\n",
    "\n",
    "with open(f'app-review-full-val-sentiment-random-3.5-system.jsonl', 'w') as f:\n",
    "    for index, row in val_df.iterrows():\n",
    "        json_str = json.dumps(get_data_dict(row, system=system_prompt)) # Create dictionary for each row\n",
    "        f.write(json_str + '\\n') # Write JSON string to a file   "
   ]
  },
  {
   "cell_type": "code",
   "execution_count": 16,
   "id": "f8c61a58-993d-4bec-9ca2-7884223ae74c",
   "metadata": {},
   "outputs": [
    {
     "name": "stdout",
     "output_type": "stream",
     "text": [
      "Nice😉\n",
      "###\n",
      "\n"
     ]
    }
   ],
   "source": [
    "print(training_df['prompt'].iloc[0])"
   ]
  },
  {
   "cell_type": "code",
   "execution_count": 17,
   "id": "028f73db-ce7a-4638-8450-ac0f8da7389f",
   "metadata": {},
   "outputs": [
    {
     "data": {
      "text/plain": [
       "np.int64(4)"
      ]
     },
     "execution_count": 17,
     "metadata": {},
     "output_type": "execute_result"
    }
   ],
   "source": [
    "training_df['star'].iloc[0]"
   ]
  },
  {
   "cell_type": "markdown",
   "id": "4059ed5f-06ac-4909-9f21-1c10916d4830",
   "metadata": {},
   "source": [
    "# Using OpenAI's Fine-tuning API"
   ]
  },
  {
   "cell_type": "code",
   "execution_count": 18,
   "id": "9a560baf-57f6-4adc-9aea-f02b80db2f9e",
   "metadata": {},
   "outputs": [
    {
     "data": {
      "text/plain": [
       "{'messages': [{'role': 'system', 'content': ''},\n",
       "  {'role': 'user', 'content': 'Nice😉'},\n",
       "  {'role': 'assistant', 'content': '4'}]}"
      ]
     },
     "execution_count": 18,
     "metadata": {},
     "output_type": "execute_result"
    }
   ],
   "source": [
    "# reminder of what this data looks like\n",
    "json.loads(open('app-review-full-train-sentiment-random-3.5.jsonl', 'rb').readlines()[0])"
   ]
  },
  {
   "cell_type": "code",
   "execution_count": 19,
   "id": "fcb76f15-18a2-4797-a0cd-dda3c2de5f84",
   "metadata": {},
   "outputs": [],
   "source": [
    "# Creating a file object for the training dataset with OpenAI's API.\n",
    "# The 'file' parameter specifies the path to the training data in JSONL format.\n",
    "# The 'purpose' is set to 'fine-rune', indicating the file's intended use.\n",
    "no_system_training_file = client.files.create(\n",
    "    file=open('app-review-full-train-sentiment-random-3.5.jsonl', 'rb'),\n",
    "    purpose='fine-tune'\n",
    ")\n",
    "\n",
    "# Creating a file object for the validation dataset with OpenAI's API\n",
    "\n",
    "no_system_val_file = client.files.create(\n",
    "    file=open('app-review-full-val-sentiment-random-3.5.jsonl', 'rb'),\n",
    "    purpose='fine-tune'\n",
    ")"
   ]
  },
  {
   "cell_type": "code",
   "execution_count": 20,
   "id": "5373880d-7b13-4541-a9c4-54f6a11d405c",
   "metadata": {},
   "outputs": [
    {
     "data": {
      "text/plain": [
       "FileObject(id='file-2SFVrYEZpBAnRXRygTNMy9', bytes=32291249, created_at=1758896392, filename='app-review-full-train-sentiment-random-3.5.jsonl', object='file', purpose='fine-tune', status='processed', expires_at=None, status_details=None)"
      ]
     },
     "execution_count": 20,
     "metadata": {},
     "output_type": "execute_result"
    }
   ],
   "source": [
    "no_system_training_file"
   ]
  },
  {
   "cell_type": "code",
   "execution_count": 21,
   "id": "c1865a1d-d12f-481d-8c54-eab3f62eec9e",
   "metadata": {},
   "outputs": [],
   "source": [
    "# Initiating the fine-runing process with OpenAI's API.\n",
    "# The `client.fine_tuning.jobs.create` method is used to start the training.\n",
    "# Parameters include:\n",
    "# - `training_file`: The ID of the previously uploaded training dataset file.\n",
    "# - `validation_file`: The IS of the previously uploaded validation dataset file.\n",
    "# - `model`: The base model to be fine-runed. In this case, \"babbage-002\" is chosen.\n",
    "# - `hyperparameters`: Dictionary containing training hyperparameters. Here, we specify the number of epochs as 1.\n",
    "no_system_babbage_job = client.fine_tuning.jobs.create(\n",
    "    training_file=no_system_training_file.id,\n",
    "    validation_file=no_system_val_file.id,\n",
    "    model=\"gpt-3.5-turbo\", # the babbage-002 mode doesn't exists now\n",
    "    hyperparameters={'n_epochs': 1}\n",
    ")"
   ]
  },
  {
   "cell_type": "code",
   "execution_count": 22,
   "id": "81aa3a52-8506-4fba-8a58-73fd719c6712",
   "metadata": {},
   "outputs": [],
   "source": [
    "# Retriving details of an ongoing or completed fine-runing job using OpenAi's API.\n",
    "job = client.fine_tuning.jobs.retrieve(no_system_babbage_job.id)"
   ]
  },
  {
   "cell_type": "code",
   "execution_count": 23,
   "id": "4f527c33-f6df-4d54-add4-cdae61990c17",
   "metadata": {},
   "outputs": [
    {
     "data": {
      "text/plain": [
       "FineTuningJob(id='ftjob-I8o7f3fxaclrUDex75T5Euu1', created_at=1758896399, error=Error(code=None, message=None, param=None), fine_tuned_model=None, finished_at=None, hyperparameters=Hyperparameters(batch_size='auto', learning_rate_multiplier='auto', n_epochs=1), model='gpt-3.5-turbo-0125', object='fine_tuning.job', organization_id='org-pGUz4fiqvCKviYv0vpEAwckT', result_files=[], seed=727477345, status='validating_files', trained_tokens=None, training_file='file-2SFVrYEZpBAnRXRygTNMy9', validation_file='file-82xXMwko3vC7MKZVq515Tj', estimated_finish=None, integrations=[], metadata=None, method=Method(type='supervised', dpo=None, reinforcement=None, supervised=SupervisedMethod(hyperparameters=SupervisedHyperparameters(batch_size='auto', learning_rate_multiplier='auto', n_epochs=1))), user_provided_suffix=None, usage_metrics=None, shared_with_openai=False, eval_id=None)"
      ]
     },
     "execution_count": 23,
     "metadata": {},
     "output_type": "execute_result"
    }
   ],
   "source": [
    "job"
   ]
  },
  {
   "cell_type": "code",
   "execution_count": 24,
   "id": "8918fdc5-9870-4668-b4a0-4414463dff25",
   "metadata": {},
   "outputs": [
    {
     "data": {
      "text/plain": [
       "'ftjob-I8o7f3fxaclrUDex75T5Euu1'"
      ]
     },
     "execution_count": 24,
     "metadata": {},
     "output_type": "execute_result"
    }
   ],
   "source": [
    "job.id"
   ]
  },
  {
   "cell_type": "code",
   "execution_count": 26,
   "id": "7e7e28e0-50c3-49c4-9f8b-2956041de514",
   "metadata": {},
   "outputs": [
    {
     "ename": "NameError",
     "evalue": "name 'results' is not defined",
     "output_type": "error",
     "traceback": [
      "\u001b[31m---------------------------------------------------------------------------\u001b[39m",
      "\u001b[31mNameError\u001b[39m                                 Traceback (most recent call last)",
      "\u001b[36mCell\u001b[39m\u001b[36m \u001b[39m\u001b[32mIn[26]\u001b[39m\u001b[32m, line 9\u001b[39m\n\u001b[32m      5\u001b[39m     results = client.files.content(job.result_files[\u001b[32m0\u001b[39m])\n\u001b[32m      8\u001b[39m \u001b[38;5;66;03m# # Base64 string (example, replace with your actual string)\u001b[39;00m\n\u001b[32m----> \u001b[39m\u001b[32m9\u001b[39m base64_string = \u001b[43mresults\u001b[49m.read()\n\u001b[32m     11\u001b[39m \u001b[38;5;66;03m# Decode the base64 string\u001b[39;00m\n\u001b[32m     12\u001b[39m decoded_bytes = base64.b64decode(base64_string)\n",
      "\u001b[31mNameError\u001b[39m: name 'results' is not defined"
     ]
    }
   ],
   "source": [
    "results_df = None\n",
    "\n",
    "if len(job.result_files):\n",
    "    print(job.result_files)\n",
    "    results = client.files.content(job.result_files[0])\n",
    "\n",
    "\n",
    "# # Base64 string (example, replace with your actual string)\n",
    "base64_string = results.read()\n",
    "\n",
    "# Decode the base64 string\n",
    "decoded_bytes = base64.b64decode(base64_string)\n",
    "decoded_str = decoded_bytes.decode('utf-8')"
   ]
  },
  {
   "cell_type": "code",
   "execution_count": null,
   "id": "3f506a9e-1cee-4498-a7f4-0da5d065c210",
   "metadata": {},
   "outputs": [],
   "source": [
    "job.result_files[0]"
   ]
  },
  {
   "cell_type": "code",
   "execution_count": null,
   "id": "2e7e09a7-a8cb-43fc-abfd-d9bdbbbf3909",
   "metadata": {},
   "outputs": [],
   "source": [
    "job.result_files"
   ]
  },
  {
   "cell_type": "code",
   "execution_count": null,
   "id": "23039b2f-db64-42c4-a642-bac4e5ae8c0d",
   "metadata": {},
   "outputs": [],
   "source": [
    "# Assuming the content is in CSV format, you can write it to a CSV file directly\n",
    "with open('results.csv', 'w') as file:\n",
    "    file.write(decoded_str)\n",
    "\n",
    "print(\"CSV file created successfully.\")\n",
    "\n",
    "results_df = pd.read_csv('results.csv')\n",
    "\n",
    "results_df.head()"
   ]
  },
  {
   "cell_type": "code",
   "execution_count": null,
   "id": "ea09225b-c94f-4757-bec2-7f280ca0e9e8",
   "metadata": {},
   "outputs": [],
   "source": [
    "# Plotting the 'valid_loss' values from the 'results_df' DataFrame.\n",
    "# We drop any NaN values to ensure a smooth plot.\n",
    "plt.figure(figsize=(10, 6))\n",
    "results_df['train_loss'].dropna().plot(color='royalblue')\n",
    "\n",
    "# Adding titles and labels for clarity\n",
    "plt.title('Training Loss Over Time', fontsize=15)\n",
    "plt.xlabel('Epoch/Index', fontsize=12)\n",
    "plt.ylabel('Training Loss', fontsize=12)\n",
    "\n",
    "# Displaying the plot\n",
    "plt.savefig('2.png', dpi=500)\n",
    "plt.show()"
   ]
  },
  {
   "cell_type": "code",
   "execution_count": null,
   "id": "614c04f9-366b-483f-ad74-608531c6f631",
   "metadata": {},
   "outputs": [],
   "source": [
    "# Plotting the 'valid_mean_token_accuracy' values from the 'results_df' DataFrame.\n",
    "# We omit any NaN values to ensure a smoooth, continuous plot.\n",
    "# Adding titles and labels for clarity\n",
    "plt.figure(figsize=(10, 6))\n",
    "results_df['train_accuracy'].dropna().plot(color='darkgreen')\n",
    "\n",
    "plt.title('Training Acuracy Over Time', fontsize=15)\n",
    "plt.xlabel('Epoch/Index', fontsize=12)\n",
    "plt.ylabel('Mean Token Accuracy', fontsize=12)\n",
    "\n",
    "# Displaying the plot\n",
    "plt.savefig('1.png', dpi=500)\n",
    "plt.show()"
   ]
  },
  {
   "cell_type": "code",
   "execution_count": null,
   "id": "39417d00-f3d6-4896-bf61-54c024008b75",
   "metadata": {},
   "outputs": [],
   "source": []
  }
 ],
 "metadata": {
  "kernelspec": {
   "display_name": "Python 3 (ipykernel)",
   "language": "python",
   "name": "python3"
  },
  "language_info": {
   "codemirror_mode": {
    "name": "ipython",
    "version": 3
   },
   "file_extension": ".py",
   "mimetype": "text/x-python",
   "name": "python",
   "nbconvert_exporter": "python",
   "pygments_lexer": "ipython3",
   "version": "3.11.13"
  }
 },
 "nbformat": 4,
 "nbformat_minor": 5
}
